{
 "cells": [
  {
   "cell_type": "code",
   "execution_count": null,
   "metadata": {},
   "outputs": [],
   "source": [
    "import pandas as pd\n",
    "import matplotlib.pyplot as plt\n",
    "%matplotlib inline"
   ]
  },
  {
   "cell_type": "code",
   "execution_count": null,
   "metadata": {},
   "outputs": [],
   "source": [
    "df = pd.read_csv(\"employee.csv\",index_col=\"ID\")\n",
    "df"
   ]
  },
  {
   "cell_type": "code",
   "execution_count": null,
   "metadata": {},
   "outputs": [],
   "source": [
    "import numpy as np\n",
    "df['distance'] = df[['Age', 'Salary']].sub(df.loc['A']).pow(2).sum(1).pow(0.5)\n",
    "df"
   ]
  },
  {
   "cell_type": "markdown",
   "metadata": {},
   "source": [
    "We have computed the Euclidean Distance between employee A and all other persons. From the results, we can see that employee E is the most similar person to A. Does this make sensence? Let us try to use do the standardisation on both 'Age' and 'Salary' and calculate the distance again."
   ]
  },
  {
   "cell_type": "code",
   "execution_count": null,
   "metadata": {},
   "outputs": [],
   "source": [
    "df['Age_scale']=0\n",
    "df['Salary_scale']=0"
   ]
  },
  {
   "cell_type": "code",
   "execution_count": null,
   "metadata": {},
   "outputs": [],
   "source": [
    "from sklearn.preprocessing import MinMaxScaler\n",
    "minScaler = MinMaxScaler()\n",
    "\n",
    "df[['Age_scale','Salary_scale']] = minScaler.fit_transform(df[['Age','Salary']])#pd.Da#aFrame(minScaler.fit_transform(df[['Age','Salary']].values), columns=['Age','Salary'])\n",
    "df['new_distance'] = df[['Age_scale', 'Salary_scale']].sub(df.iloc[0]).pow(2).sum(1).pow(0.5)\n",
    "df"
   ]
  },
  {
   "cell_type": "markdown",
   "metadata": {},
   "source": [
    "Now employee C is the most similar person to A. Intuiviely, this is more reasonable, as A and C are with similar ages and salary. "
   ]
  },
  {
   "cell_type": "code",
   "execution_count": null,
   "metadata": {},
   "outputs": [],
   "source": []
  }
 ],
 "metadata": {
  "kernelspec": {
   "display_name": "Python [conda env:FIT5196]",
   "language": "python",
   "name": "conda-env-FIT5196-py"
  },
  "language_info": {
   "codemirror_mode": {
    "name": "ipython",
    "version": 3
   },
   "file_extension": ".py",
   "mimetype": "text/x-python",
   "name": "python",
   "nbconvert_exporter": "python",
   "pygments_lexer": "ipython3",
   "version": "3.6.10"
  }
 },
 "nbformat": 4,
 "nbformat_minor": 2
}
