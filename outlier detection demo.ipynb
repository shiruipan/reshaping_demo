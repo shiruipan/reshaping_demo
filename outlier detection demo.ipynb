{
 "cells": [
  {
   "cell_type": "code",
   "execution_count": 45,
   "metadata": {},
   "outputs": [],
   "source": [
    "import numpy as np"
   ]
  },
  {
   "cell_type": "code",
   "execution_count": 46,
   "metadata": {},
   "outputs": [
    {
     "name": "stdout",
     "output_type": "stream",
     "text": [
      "4.25 4.14578098794425\n",
      "outlier threshod: 16.68734296383275\n"
     ]
    }
   ],
   "source": [
    "# 3 sigma rule\n",
    "data =[1, 2, 3, 3, 3, 3, 4, 15]\n",
    "\n",
    "u = sum(data)/len(data)\n",
    "st = np.std(data)\n",
    "\n",
    "thre = u + 3*st;\n",
    "\n",
    "\n",
    "print(u, st)\n",
    "print('outlier threshod:', thre)"
   ]
  },
  {
   "cell_type": "code",
   "execution_count": 39,
   "metadata": {},
   "outputs": [
    {
     "name": "stdout",
     "output_type": "stream",
     "text": [
      "3.0 0.0\n",
      "outlier threshod: 3.0\n"
     ]
    }
   ],
   "source": [
    "# Hampel identifier\n",
    "m = np.median (data)\n",
    "S = 1.428 * np.median(m - data)\n",
    "\n",
    "thre = m + 3*S;\n",
    "\n",
    "\n",
    "print(m, S)\n",
    "print('outlier threshod:', thre)\n",
    "\n"
   ]
  },
  {
   "cell_type": "code",
   "execution_count": 44,
   "metadata": {},
   "outputs": [
    {
     "data": {
      "text/plain": [
       "{'whiskers': [<matplotlib.lines.Line2D at 0x7f9266af48d0>,\n",
       "  <matplotlib.lines.Line2D at 0x7f9266af4c50>],\n",
       " 'caps': [<matplotlib.lines.Line2D at 0x7f9266af4f98>,\n",
       "  <matplotlib.lines.Line2D at 0x7f9266aff320>],\n",
       " 'boxes': [<matplotlib.lines.Line2D at 0x7f9266af4780>],\n",
       " 'medians': [<matplotlib.lines.Line2D at 0x7f9266aff668>],\n",
       " 'fliers': [<matplotlib.lines.Line2D at 0x7f9266aff9b0>],\n",
       " 'means': []}"
      ]
     },
     "execution_count": 44,
     "metadata": {},
     "output_type": "execute_result"
    },
    {
     "data": {
      "image/png": "[encoded data removed]",
      "text/plain": [
       "<Figure size 432x288 with 1 Axes>"
      ]
     },
     "metadata": {
      "needs_background": "light"
     },
     "output_type": "display_data"
    }
   ],
   "source": [
    "#standard boxplot\n",
    "import matplotlib.pyplot as plt\n",
    "plt.boxplot(data, 0, 'ro', whis=1.5)"
   ]
  },
  {
   "cell_type": "code",
   "execution_count": null,
   "metadata": {},
   "outputs": [],
   "source": []
  }
 ],
 "metadata": {
  "kernelspec": {
   "display_name": "Python [conda env:FIT5196]",
   "language": "python",
   "name": "conda-env-FIT5196-py"
  },
  "language_info": {
   "codemirror_mode": {
    "name": "ipython",
    "version": 3
   },
   "file_extension": ".py",
   "mimetype": "text/x-python",
   "name": "python",
   "nbconvert_exporter": "python",
   "pygments_lexer": "ipython3",
   "version": "3.6.10"
  }
 },
 "nbformat": 4,
 "nbformat_minor": 2
}
